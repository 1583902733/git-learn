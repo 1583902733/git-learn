{
 "cells": [
  {
   "cell_type": "code",
   "execution_count": 59,
   "metadata": {},
   "outputs": [],
   "source": [
    "import sklearn\n",
    "from sklearn.neighbors import KNeighborsClassifier\n",
    "import numpy as np\n",
    "import matplotlib.pyplot as plt\n",
    "from math import sqrt"
   ]
  },
  {
   "cell_type": "code",
   "execution_count": 66,
   "metadata": {},
   "outputs": [],
   "source": [
    "X_raw = [[14.23,5.64],\n",
    "         [13.2,4.38],\n",
    "        [13.16,5.68],\n",
    "        [14.37,4.80],\n",
    "        [13.24,4.32],\n",
    "        [12.07,2.76],\n",
    "        [12.43,3.94],\n",
    "        [11.79,3.  ],\n",
    "        [12.37,2.12],\n",
    "         [12.04,2.6]]\n",
    "y_raw = [0,0,0,0,0,1,1,1,1,1]\n",
    "x_test = np.array([13.8,4.1])\n",
    "X_train = np.array(X_raw)\n",
    "y_train = np.array(y_raw)"
   ]
  },
  {
   "cell_type": "code",
   "execution_count": 68,
   "metadata": {},
   "outputs": [
    {
     "data": {
      "text/plain": [
       "<matplotlib.collections.PathCollection at 0x24dba63abe0>"
      ]
     },
     "execution_count": 68,
     "metadata": {},
     "output_type": "execute_result"
    },
    {
     "data": {
      "image/png": "[encoded data removed]",
      "text/plain": [
       "<Figure size 720x432 with 1 Axes>"
      ]
     },
     "metadata": {},
     "output_type": "display_data"
    }
   ],
   "source": [
    "plt.style.use('ggplot')\n",
    "plt.figure(figsize=(10,6))\n",
    "X_0, X_1 = X_train[y_train == 0], X_train[y_train == 1]\n",
    "plt.scatter(X_0[:,0],X_0[:,1],color=\"r\")\n",
    "plt.scatter(X_1[:,0],X_1[:,1],color=\"b\")\n",
    "plt.scatter(x_test[0],x_test[1],color=\"g\")"
   ]
  },
  {
   "cell_type": "code",
   "execution_count": 70,
   "metadata": {},
   "outputs": [
    {
     "name": "stdout",
     "output_type": "stream",
     "text": [
      "[0, 0, 0]\n"
     ]
    },
    {
     "data": {
      "text/plain": [
       "0"
      ]
     },
     "execution_count": 70,
     "metadata": {},
     "output_type": "execute_result"
    }
   ],
   "source": [
    "distance = [sqrt(np.sum((x - x_test)**2))for x in X_train]\n",
    "sort = np.argsort(distance)\n",
    "K = 3\n",
    "topK = [y_train[i] for i in sort[:K]]\n",
    "print(topK)\n",
    "from collections import Counter\n",
    "votes = Counter(topK)\n",
    "votes.most_common(1)[0][0]"
   ]
  },
  {
   "cell_type": "code",
   "execution_count": 64,
   "metadata": {},
   "outputs": [
    {
     "data": {
      "text/plain": [
       "0"
      ]
     },
     "execution_count": 64,
     "metadata": {},
     "output_type": "execute_result"
    }
   ],
   "source": [
    "kNN_classifier=KNeighborsClassifier(n_neighbors=3)\n",
    "kNN_classifier.fit(X_train,y_train)\n",
    "x_test = x_test.reshape(1,-1)\n",
    "kNN_classifier.predict(x_test)[0]\n"
   ]
  },
  {
   "cell_type": "code",
   "execution_count": null,
   "metadata": {},
   "outputs": [],
   "source": []
  }
 ],
 "metadata": {
  "kernelspec": {
   "display_name": "Python 3",
   "language": "python",
   "name": "python3"
  },
  "language_info": {
   "codemirror_mode": {
    "name": "ipython",
    "version": 3
   },
   "file_extension": ".py",
   "mimetype": "text/x-python",
   "name": "python",
   "nbconvert_exporter": "python",
   "pygments_lexer": "ipython3",
   "version": "3.6.6"
  },
  "toc": {
   "base_numbering": 1,
   "nav_menu": {},
   "number_sections": true,
   "sideBar": true,
   "skip_h1_title": false,
   "title_cell": "Table of Contents",
   "title_sidebar": "Contents",
   "toc_cell": false,
   "toc_position": {},
   "toc_section_display": true,
   "toc_window_display": false
  }
 },
 "nbformat": 4,
 "nbformat_minor": 2
}
